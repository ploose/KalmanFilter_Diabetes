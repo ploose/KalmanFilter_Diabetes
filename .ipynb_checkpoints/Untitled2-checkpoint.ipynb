{
 "cells": [
  {
   "cell_type": "code",
   "execution_count": 2,
   "id": "b3f16e2c",
   "metadata": {},
   "outputs": [
    {
     "name": "stderr",
     "output_type": "stream",
     "text": [
      "c:\\python37\\lib\\site-packages\\pykalman\\unscented.py:867: RuntimeWarning: covariance is not positive-semidefinite.\n",
      "  observation_covariance.newbyteorder('=')\n"
     ]
    },
    {
     "ename": "AttributeError",
     "evalue": "module 'pylab' has no attribute 'figure'",
     "output_type": "error",
     "traceback": [
      "\u001b[1;31m---------------------------------------------------------------------------\u001b[0m",
      "\u001b[1;31mAttributeError\u001b[0m                            Traceback (most recent call last)",
      "\u001b[1;32m~\\AppData\\Local\\Temp\\ipykernel_5112\\784015374.py\u001b[0m in \u001b[0;36m<module>\u001b[1;34m\u001b[0m\n\u001b[0;32m     62\u001b[0m \u001b[1;33m\u001b[0m\u001b[0m\n\u001b[0;32m     63\u001b[0m \u001b[1;31m# draw estimates\u001b[0m\u001b[1;33m\u001b[0m\u001b[1;33m\u001b[0m\u001b[0m\n\u001b[1;32m---> 64\u001b[1;33m \u001b[0mpl\u001b[0m\u001b[1;33m.\u001b[0m\u001b[0mfigure\u001b[0m\u001b[1;33m(\u001b[0m\u001b[1;33m)\u001b[0m\u001b[1;33m\u001b[0m\u001b[0m\n\u001b[0m\u001b[0;32m     65\u001b[0m \u001b[0mlines_true\u001b[0m \u001b[1;33m=\u001b[0m \u001b[0mpl\u001b[0m\u001b[1;33m.\u001b[0m\u001b[0mplot\u001b[0m\u001b[1;33m(\u001b[0m\u001b[0mstates\u001b[0m\u001b[1;33m,\u001b[0m \u001b[0mcolor\u001b[0m\u001b[1;33m=\u001b[0m\u001b[1;34m'b'\u001b[0m\u001b[1;33m)\u001b[0m\u001b[1;33m\u001b[0m\u001b[0m\n\u001b[0;32m     66\u001b[0m \u001b[0mlines_ukf\u001b[0m \u001b[1;33m=\u001b[0m \u001b[0mpl\u001b[0m\u001b[1;33m.\u001b[0m\u001b[0mplot\u001b[0m\u001b[1;33m(\u001b[0m\u001b[0mukf_state_estimates\u001b[0m\u001b[1;33m,\u001b[0m \u001b[0mcolor\u001b[0m\u001b[1;33m=\u001b[0m\u001b[1;34m'r'\u001b[0m\u001b[1;33m,\u001b[0m \u001b[0mls\u001b[0m\u001b[1;33m=\u001b[0m\u001b[1;34m'-'\u001b[0m\u001b[1;33m)\u001b[0m\u001b[1;33m\u001b[0m\u001b[0m\n",
      "\u001b[1;31mAttributeError\u001b[0m: module 'pylab' has no attribute 'figure'"
     ]
    }
   ],
   "source": [
    "'''\n",
    "============================================\n",
    "General vs. Additive Unscented Kalman Filter\n",
    "============================================\n",
    "\n",
    "This example shows the difference between the general Unscented Kalman Filter\n",
    "and the Additive Unscented Kalman Filter.\n",
    "\n",
    "The general Unscented Kalman Filter (UKF) places no limitations on how noise\n",
    "interacts with the model. While this provides a wider range of potential\n",
    "models, it comes at the cost of additional computational burden. If your model\n",
    "contains additive noise, the Additive Unscented Kalman Filter (AddUKF) allows\n",
    "one to exploit that to reduce computational complexity. While results are not\n",
    "guaranteed to be the same for both methods, they are very similar.\n",
    "\n",
    "The figure drawn shows the true, hidden state; the state estimates given by the\n",
    "UKF; and finally the same given by the UKS.\n",
    "'''\n",
    "import numpy as np\n",
    "import matplotlib.pyplot as pl\n",
    "from pykalman import AdditiveUnscentedKalmanFilter, UnscentedKalmanFilter\n",
    "\n",
    "# initialize parameters\n",
    "def transition_function(state, noise):\n",
    "    a = state[0] * np.sin(state[1]) + noise[0]\n",
    "    b = state[1] + noise[1]\n",
    "    return np.array([a, b])\n",
    "\n",
    "def observation_function(state, noise):\n",
    "    C = np.array([[-1, 0.5], [0.2, 0.1]])\n",
    "    return np.dot(C, state) + noise\n",
    "\n",
    "def additive_transition_function(state):\n",
    "    return transition_function(state, np.array([0, 0]))\n",
    "\n",
    "def additive_observation_function(state):\n",
    "    return observation_function(state, np.array([0, 0]))\n",
    "\n",
    "transition_covariance = np.eye(2)\n",
    "random_state = np.random.RandomState(0)\n",
    "observation_covariance = np.eye(2) + random_state.randn(2, 2) * 0.1\n",
    "initial_state_mean = [0, 0]\n",
    "initial_state_covariance = [[1, 0.1], [ 0.1, 1]]\n",
    "\n",
    "# sample from model\n",
    "ukf = UnscentedKalmanFilter(\n",
    "    transition_function, observation_function,\n",
    "    transition_covariance, observation_covariance,\n",
    "    initial_state_mean, initial_state_covariance,\n",
    "    random_state=random_state\n",
    ")\n",
    "akf = AdditiveUnscentedKalmanFilter(\n",
    "    additive_transition_function, additive_observation_function,\n",
    "    transition_covariance, observation_covariance,\n",
    "    initial_state_mean, initial_state_covariance\n",
    ")\n",
    "states, observations = ukf.sample(50, initial_state_mean)\n",
    "\n",
    "# estimate state with filtering\n",
    "ukf_state_estimates = ukf.filter(observations)[0]\n",
    "akf_state_estimates = akf.filter(observations)[0]\n",
    "\n",
    "# draw estimates\n",
    "pl.figure()\n",
    "lines_true = pl.plot(states, color='b')\n",
    "lines_ukf = pl.plot(ukf_state_estimates, color='r', ls='-')\n",
    "lines_akf = pl.plot(akf_state_estimates, color='g', ls='-.')\n",
    "pl.legend((lines_true[0], lines_ukf[0], lines_akf[0]),\n",
    "          ('true', 'UKF', 'AddUKF'),\n",
    "          loc='upper left'\n",
    ")\n",
    "pl.show()"
   ]
  },
  {
   "cell_type": "code",
   "execution_count": null,
   "id": "3f464a2b",
   "metadata": {},
   "outputs": [],
   "source": []
  }
 ],
 "metadata": {
  "kernelspec": {
   "display_name": "Python 3 (ipykernel)",
   "language": "python",
   "name": "python3"
  },
  "language_info": {
   "codemirror_mode": {
    "name": "ipython",
    "version": 3
   },
   "file_extension": ".py",
   "mimetype": "text/x-python",
   "name": "python",
   "nbconvert_exporter": "python",
   "pygments_lexer": "ipython3",
   "version": "3.7.0"
  }
 },
 "nbformat": 4,
 "nbformat_minor": 5
}
